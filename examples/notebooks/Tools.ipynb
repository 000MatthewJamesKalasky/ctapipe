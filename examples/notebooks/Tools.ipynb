{
 "cells": [
  {
   "cell_type": "code",
   "execution_count": 1,
   "metadata": {
    "collapsed": false
   },
   "outputs": [],
   "source": [
    "from ctapipe.core import Tool, Component\n",
    "from traitlets import (Integer, Float, List, Dict,Unicode)\n",
    "import logging\n",
    "from time import sleep"
   ]
  },
  {
   "cell_type": "markdown",
   "metadata": {},
   "source": [
    "see https://github.com/ipython/traitlets/blob/master/examples/myapp.py"
   ]
  },
  {
   "cell_type": "code",
   "execution_count": 37,
   "metadata": {
    "collapsed": false
   },
   "outputs": [],
   "source": [
    "class MyComponent(Component):\n",
    "    description = \"Do some things\"\n",
    "\n",
    "    value = Integer(default_value=-1, help=\"Value to use\").tag(config=True)\n",
    "\n",
    "    def do_thing(self):\n",
    "        self.log.debug(\"Did thing\")\n",
    "\n",
    "# in order to have 2 of the same components at once\n",
    "class SecondaryMyComponent(MyComponent):\n",
    "    pass\n",
    "\n",
    "\n",
    "class AdvancedComponent(Component):\n",
    "    name=\"AdvancedComponent\"\n",
    "    description = \"something more advanced\"\n",
    "\n",
    "    value1 = Integer(default_value=-1, help=\"Value to use\").tag(config=True)\n",
    "    infile = Unicode(help=\"input file name\").tag(config=True)\n",
    "    outfile = Unicode(help=\"output file name\").tag(config=True)\n",
    "\n",
    "\n",
    "class MyTool(Tool):\n",
    "    name=\"mytool\"\n",
    "    description=\"do some things\"\n",
    "    classes = List([MyComponent, AdvancedComponent, SecondaryMyComponent])\n",
    "    aliases = Dict(dict(infile='AdvancedComponent.infile', \n",
    "                        log_level='MyTool.log_level',\n",
    "                        iterations='MyTool.iterations'))\n",
    "\n",
    "    iterations = Integer(5,help=\"Number of times to run\",allow_none=False).tag(config=True)\n",
    "\n",
    "    def init_comp(self):\n",
    "        self.comp = MyComponent(self, config=self.config)\n",
    "        self.comp2 = SecondaryMyComponent(self, config=self.config)\n",
    "\n",
    "    def init_advanced(self):\n",
    "        self.advanced = AdvancedComponent(self, config=self.config)\n",
    "\n",
    "    def initialize(self):\n",
    "        self.init_comp()\n",
    "        self.init_advanced()\n",
    "\n",
    "    def start(self):\n",
    "        self.log.info(\"Performing {} iterations...\".format(self.iterations))\n",
    "        for ii in range(self.iterations):\n",
    "            self.log.info(\"ITERATION {}\".format(ii))\n",
    "            self.comp.do_thing()\n",
    "            self.comp2.do_thing()\n",
    "            sleep(0.5)\n",
    "            \n",
    "    def finish(self):\n",
    "        self.log.warning(\"Shutting down.\")\n",
    "    \n"
   ]
  },
  {
   "cell_type": "code",
   "execution_count": 38,
   "metadata": {
    "collapsed": true
   },
   "outputs": [],
   "source": [
    "tool=MyTool()"
   ]
  },
  {
   "cell_type": "code",
   "execution_count": 39,
   "metadata": {
    "collapsed": false
   },
   "outputs": [
    {
     "name": "stdout",
     "output_type": "stream",
     "text": [
      "do some things\n",
      "\n",
      "Options\n",
      "-------\n",
      "\n",
      "Arguments that take values are actually convenience aliases to full\n",
      "Configurables, whose aliases are listed on the help line. For more information\n",
      "on full configurables, see '--help-all'.\n",
      "\n",
      "--log_level=<Enum> (MyTool.log_level)\n",
      "    Default: 30\n",
      "    Choices: (0, 10, 20, 30, 40, 50, 'DEBUG', 'INFO', 'WARN', 'ERROR', 'CRITICAL')\n",
      "    Set the log level by value or name.\n",
      "--infile=<Unicode> (AdvancedComponent.infile)\n",
      "    Default: ''\n",
      "    input file name\n",
      "--iterations=<Int> (MyTool.iterations)\n",
      "    Default: 5\n",
      "    Number of times to run\n",
      "\n",
      "To see all available configurables, use `--help-all`\n",
      "\n"
     ]
    }
   ],
   "source": [
    "tool.print_help()"
   ]
  },
  {
   "cell_type": "code",
   "execution_count": 40,
   "metadata": {
    "collapsed": false
   },
   "outputs": [
    {
     "name": "stdout",
     "output_type": "stream",
     "text": [
      "do some things\n",
      "\n",
      "Options\n",
      "-------\n",
      "\n",
      "Arguments that take values are actually convenience aliases to full\n",
      "Configurables, whose aliases are listed on the help line. For more information\n",
      "on full configurables, see '--help-all'.\n",
      "\n",
      "--log_level=<Enum> (MyTool.log_level)\n",
      "    Default: 30\n",
      "    Choices: (0, 10, 20, 30, 40, 50, 'DEBUG', 'INFO', 'WARN', 'ERROR', 'CRITICAL')\n",
      "    Set the log level by value or name.\n",
      "--infile=<Unicode> (AdvancedComponent.infile)\n",
      "    Default: ''\n",
      "    input file name\n",
      "--iterations=<Int> (MyTool.iterations)\n",
      "    Default: 5\n",
      "    Number of times to run\n",
      "\n",
      "Class parameters\n",
      "----------------\n",
      "\n",
      "Parameters are set from command-line arguments of the form:\n",
      "`--Class.trait=value`. This line is evaluated in Python, so simple expressions\n",
      "are allowed, e.g.:: `--C.a='range(3)'` For setting C.a=[0,1,2].\n",
      "\n",
      "MyTool options\n",
      "--------------\n",
      "--MyTool.config_file=<Unicode>\n",
      "    Default: ''\n",
      "    name of configuration file with parameters\n",
      "--MyTool.iterations=<Int>\n",
      "    Default: 5\n",
      "    Number of times to run\n",
      "--MyTool.log_datefmt=<Unicode>\n",
      "    Default: '%Y-%m-%d %H:%M:%S'\n",
      "    The date format used by logging formatters for %(asctime)s\n",
      "--MyTool.log_format=<Unicode>\n",
      "    Default: '[%(name)s]%(highlevel)s %(message)s'\n",
      "    The Logging format template\n",
      "--MyTool.log_level=<Enum>\n",
      "    Default: 30\n",
      "    Choices: (0, 10, 20, 30, 40, 50, 'DEBUG', 'INFO', 'WARN', 'ERROR', 'CRITICAL')\n",
      "    Set the log level by value or name.\n",
      "\n",
      "MyComponent options\n",
      "-------------------\n",
      "--MyComponent.value=<Int>\n",
      "    Default: -1\n",
      "    Value to use\n",
      "\n",
      "AdvancedComponent options\n",
      "-------------------------\n",
      "--AdvancedComponent.infile=<Unicode>\n",
      "    Default: ''\n",
      "    input file name\n",
      "--AdvancedComponent.outfile=<Unicode>\n",
      "    Default: ''\n",
      "    output file name\n",
      "--AdvancedComponent.value1=<Int>\n",
      "    Default: -1\n",
      "    Value to use\n",
      "\n",
      "SecondaryMyComponent options\n",
      "----------------------------\n",
      "--SecondaryMyComponent.value=<Int>\n",
      "    Default: -1\n",
      "    Value to use\n",
      "\n"
     ]
    }
   ],
   "source": [
    "tool.print_help(classes=True)"
   ]
  },
  {
   "cell_type": "code",
   "execution_count": 41,
   "metadata": {
    "collapsed": false
   },
   "outputs": [
    {
     "name": "stderr",
     "output_type": "stream",
     "text": [
      "2016-06-24 17:49:38 : INFO [MyTool run] Starting: mytool\n",
      "2016-06-24 17:49:38 : INFO [MyTool start] Performing 3 iterations...\n",
      "2016-06-24 17:49:38 : INFO [MyTool start] ITERATION 0\n",
      "2016-06-24 17:49:38 : INFO [MyTool start] ITERATION 1\n",
      "2016-06-24 17:49:39 : INFO [MyTool start] ITERATION 2\n",
      "2016-06-24 17:49:39 : WARNING [MyTool finish] Shutting down.\n"
     ]
    }
   ],
   "source": [
    "tool.log_format = \"%(asctime)s : %(levelname)s [%(name)s %(funcName)s] %(message)s\" \n",
    "tool.run(argv=['--log_level','INFO','--infile','bork.txt','--iterations','3'])"
   ]
  },
  {
   "cell_type": "code",
   "execution_count": 42,
   "metadata": {
    "collapsed": false
   },
   "outputs": [
    {
     "name": "stderr",
     "output_type": "stream",
     "text": [
      "2016-06-24 17:49:42 : INFO [MyTool run] Starting: mytool\n",
      "2016-06-24 17:49:42 : DEBUG [MyTool run] CONFIG: {'AdvancedComponent': {'infile': 'bork.txt'}, 'MyTool': {'log_level': 'DEBUG', 'iterations': 3}}\n",
      "2016-06-24 17:49:42 : INFO [MyTool start] Performing 3 iterations...\n",
      "2016-06-24 17:49:42 : INFO [MyTool start] ITERATION 0\n",
      "2016-06-24 17:49:42 : DEBUG [MyTool.MyComponent do_thing] Did thing\n",
      "2016-06-24 17:49:42 : DEBUG [MyTool.SecondaryMyComponent do_thing] Did thing\n",
      "2016-06-24 17:49:42 : INFO [MyTool start] ITERATION 1\n",
      "2016-06-24 17:49:42 : DEBUG [MyTool.MyComponent do_thing] Did thing\n",
      "2016-06-24 17:49:42 : DEBUG [MyTool.SecondaryMyComponent do_thing] Did thing\n",
      "2016-06-24 17:49:43 : INFO [MyTool start] ITERATION 2\n",
      "2016-06-24 17:49:43 : DEBUG [MyTool.MyComponent do_thing] Did thing\n",
      "2016-06-24 17:49:43 : DEBUG [MyTool.SecondaryMyComponent do_thing] Did thing\n",
      "2016-06-24 17:49:43 : WARNING [MyTool finish] Shutting down.\n"
     ]
    }
   ],
   "source": [
    "tool.run(argv=['--log_level','DEBUG','--infile','bork.txt'])"
   ]
  },
  {
   "cell_type": "markdown",
   "metadata": {},
   "source": [
    "you can also set parameters directly in the class"
   ]
  },
  {
   "cell_type": "code",
   "execution_count": 46,
   "metadata": {
    "collapsed": false
   },
   "outputs": [
    {
     "name": "stderr",
     "output_type": "stream",
     "text": [
      "2016-06-24 17:50:14 : WARNING [MyTool finish] Shutting down.\n"
     ]
    }
   ],
   "source": [
    "tool.iterations = 1\n",
    "tool.log_level = 0\n",
    "tool.run('')"
   ]
  },
  {
   "cell_type": "code",
   "execution_count": 25,
   "metadata": {
    "collapsed": false
   },
   "outputs": [
    {
     "data": {
      "text/plain": [
       "6"
      ]
     },
     "execution_count": 25,
     "metadata": {},
     "output_type": "execute_result"
    }
   ],
   "source": [
    "tool.iterations"
   ]
  },
  {
   "cell_type": "code",
   "execution_count": null,
   "metadata": {
    "collapsed": true
   },
   "outputs": [],
   "source": []
  }
 ],
 "metadata": {
  "kernelspec": {
   "display_name": "Python 3",
   "language": "python",
   "name": "python3"
  },
  "language_info": {
   "codemirror_mode": {
    "name": "ipython",
    "version": 3
   },
   "file_extension": ".py",
   "mimetype": "text/x-python",
   "name": "python",
   "nbconvert_exporter": "python",
   "pygments_lexer": "ipython3",
   "version": "3.5.1"
  }
 },
 "nbformat": 4,
 "nbformat_minor": 0
}
