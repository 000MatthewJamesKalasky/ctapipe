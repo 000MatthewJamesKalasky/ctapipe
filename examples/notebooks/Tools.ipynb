{
 "cells": [
  {
   "cell_type": "code",
   "execution_count": 1,
   "metadata": {
    "collapsed": false
   },
   "outputs": [],
   "source": [
    "from ctapipe.core import Tool, Component\n",
    "from traitlets import Integer, Float\n",
    "import logging"
   ]
  },
  {
   "cell_type": "code",
   "execution_count": 2,
   "metadata": {
    "collapsed": false
   },
   "outputs": [],
   "source": [
    "class MyComponent(Component):\n",
    "    name=\"mycomponent\"\n",
    "    description = \"Do some things\"\n",
    "\n",
    "    value = Integer(default_value=-1, help=\"Value to use\").tag(config=True)\n",
    "\n",
    "class MyTool(Tool):\n",
    "    name=\"mytool\"\n",
    "    description=\"do some things\"\n",
    "\n",
    "    def initialize():"
   ]
  },
  {
   "cell_type": "code",
   "execution_count": 3,
   "metadata": {
    "collapsed": false
   },
   "outputs": [],
   "source": [
    "tool = MyTool()\n",
    "comp = MyComponent(tool)\n",
    "comp2 = MyComponent(tool, name=\"comp2\")"
   ]
  },
  {
   "cell_type": "code",
   "execution_count": 4,
   "metadata": {
    "collapsed": false
   },
   "outputs": [
    {
     "name": "stderr",
     "output_type": "stream",
     "text": [
      "[MyTool] This is a test\n",
      "[MyTool.mycomponent] popop\n",
      "[MyTool.comp2] sdsds\n"
     ]
    }
   ],
   "source": [
    "tool.log.setLevel('DEBUG')\n",
    "comp.parent.log.info(\"This is a test\")\n",
    "comp.log.info(\"popop\")\n",
    "comp2.log.info(\"sdsds\")"
   ]
  },
  {
   "cell_type": "code",
   "execution_count": 5,
   "metadata": {
    "collapsed": false
   },
   "outputs": [
    {
     "name": "stdout",
     "output_type": "stream",
     "text": [
      "do some things\n",
      "\n",
      "Options\n",
      "-------\n",
      "\n",
      "Arguments that take values are actually convenience aliases to full\n",
      "Configurables, whose aliases are listed on the help line. For more information\n",
      "on full configurables, see '--help-all'.\n",
      "\n",
      "--log-level=<Enum> (Application.log_level)\n",
      "    Default: 30\n",
      "    Choices: (0, 10, 20, 30, 40, 50, 'DEBUG', 'INFO', 'WARN', 'ERROR', 'CRITICAL')\n",
      "    Set the log level by value or name.\n",
      "\n",
      "Class parameters\n",
      "----------------\n",
      "\n",
      "Parameters are set from command-line arguments of the form:\n",
      "`--Class.trait=value`. This line is evaluated in Python, so simple expressions\n",
      "are allowed, e.g.:: `--C.a='range(3)'` For setting C.a=[0,1,2].\n",
      "\n",
      "MyTool options\n",
      "--------------\n",
      "--MyTool.log_datefmt=<Unicode>\n",
      "    Default: '%Y-%m-%d %H:%M:%S'\n",
      "    The date format used by logging formatters for %(asctime)s\n",
      "--MyTool.log_format=<Unicode>\n",
      "    Default: '[%(name)s]%(highlevel)s %(message)s'\n",
      "    The Logging format template\n",
      "--MyTool.log_level=<Enum>\n",
      "    Default: 30\n",
      "    Choices: (0, 10, 20, 30, 40, 50, 'DEBUG', 'INFO', 'WARN', 'ERROR', 'CRITICAL')\n",
      "    Set the log level by value or name.\n",
      "\n"
     ]
    }
   ],
   "source": [
    "tool.print_help(classes=True)"
   ]
  },
  {
   "cell_type": "code",
   "execution_count": 9,
   "metadata": {
    "collapsed": false
   },
   "outputs": [
    {
     "data": {
      "text/plain": [
       "<logging.Logger at 0x109700908>"
      ]
     },
     "execution_count": 9,
     "metadata": {},
     "output_type": "execute_result"
    }
   ],
   "source": []
  },
  {
   "cell_type": "code",
   "execution_count": 6,
   "metadata": {
    "collapsed": true
   },
   "outputs": [],
   "source": [
    "l = logging.getLogger(\"boop\")"
   ]
  },
  {
   "cell_type": "code",
   "execution_count": 7,
   "metadata": {
    "collapsed": true
   },
   "outputs": [],
   "source": [
    "l.getChild?"
   ]
  },
  {
   "cell_type": "code",
   "execution_count": null,
   "metadata": {
    "collapsed": true
   },
   "outputs": [],
   "source": []
  }
 ],
 "metadata": {
  "kernelspec": {
   "display_name": "Python 3",
   "language": "python",
   "name": "python3"
  },
  "language_info": {
   "codemirror_mode": {
    "name": "ipython",
    "version": 3
   },
   "file_extension": ".py",
   "mimetype": "text/x-python",
   "name": "python",
   "nbconvert_exporter": "python",
   "pygments_lexer": "ipython3",
   "version": "3.5.1"
  }
 },
 "nbformat": 4,
 "nbformat_minor": 0
}
