{
 "cells": [
  {
   "cell_type": "code",
   "execution_count": 1,
   "metadata": {
    "collapsed": false
   },
   "outputs": [],
   "source": [
    "from ctapipe.core import Tool, Component\n",
    "from traitlets import (Integer, Float, List, Dict,Unicode, TraitError, observe)\n",
    "import logging\n",
    "from time import sleep"
   ]
  },
  {
   "cell_type": "markdown",
   "metadata": {},
   "source": [
    "see https://github.com/ipython/traitlets/blob/master/examples/myapp.py"
   ]
  },
  {
   "cell_type": "code",
   "execution_count": 7,
   "metadata": {
    "collapsed": false
   },
   "outputs": [],
   "source": [
    "class MyComponent(Component):\n",
    "    description = \"Do some things\"\n",
    "\n",
    "    value = Integer(default_value=-1, help=\"Value to use\").tag(config=True)\n",
    "\n",
    "    def do_thing(self):\n",
    "        self.log.debug(\"Did thing\")\n",
    "\n",
    "# in order to have 2 of the same components at once\n",
    "class SecondaryMyComponent(MyComponent):\n",
    "    pass\n",
    "\n",
    "\n",
    "class AdvancedComponent(Component):\n",
    "    name=\"AdvancedComponent\"\n",
    "    description = \"something more advanced\"\n",
    "\n",
    "    value1 = Integer(default_value=-1, help=\"Value to use\").tag(config=True)\n",
    "    infile = Unicode(help=\"input file name\").tag(config=True)\n",
    "    outfile = Unicode(help=\"output file name\").tag(config=True)\n",
    "\n",
    "    @observe('outfile')\n",
    "    def on_outfile_changed(self, change):\n",
    "        self.log.warning(\"Outfile was changed to '{}'\".format(change))\n",
    "\n",
    "\n",
    "class MyTool(Tool):\n",
    "    name=\"mytool\"\n",
    "    description=\"do some things and stuff\"\n",
    "    aliases = Dict(dict(infile='AdvancedComponent.infile', \n",
    "                        log_level='MyTool.log_level',\n",
    "                        iterations='MyTool.iterations'))\n",
    "\n",
    "    # Which classes are registered for configuration\n",
    "    classes = List([MyComponent, AdvancedComponent, SecondaryMyComponent])\n",
    "\n",
    "    # local configuration parameters\n",
    "    iterations = Integer(5,help=\"Number of times to run\",allow_none=False).tag(config=True)\n",
    "\n",
    "    def init_comp(self):\n",
    "        self.comp = MyComponent(self, config=self.config)\n",
    "        self.comp2 = SecondaryMyComponent(self, config=self.config)\n",
    "\n",
    "    def init_advanced(self):\n",
    "        self.advanced = AdvancedComponent(self, config=self.config)\n",
    "\n",
    "    def initialize(self):\n",
    "        self.init_comp()\n",
    "        self.init_advanced()\n",
    "\n",
    "    def start(self):\n",
    "        self.log.info(\"Performing {} iterations...\".format(self.iterations))\n",
    "        for ii in range(self.iterations):\n",
    "            self.log.info(\"ITERATION {}\".format(ii))\n",
    "            self.comp.do_thing()\n",
    "            self.comp2.do_thing()\n",
    "            sleep(0.5)\n",
    "            \n",
    "    def finish(self):\n",
    "        self.log.warning(\"Shutting down.\")\n",
    "    \n"
   ]
  },
  {
   "cell_type": "code",
   "execution_count": 8,
   "metadata": {
    "collapsed": true
   },
   "outputs": [],
   "source": [
    "tool=MyTool()"
   ]
  },
  {
   "cell_type": "code",
   "execution_count": 9,
   "metadata": {
    "collapsed": false
   },
   "outputs": [
    {
     "name": "stdout",
     "output_type": "stream",
     "text": [
      "do some things and stuff\n",
      "\n",
      "Options\n",
      "-------\n",
      "\n",
      "Arguments that take values are actually convenience aliases to full\n",
      "Configurables, whose aliases are listed on the help line. For more information\n",
      "on full configurables, see '--help-all'.\n",
      "\n",
      "--log_level=<Enum> (MyTool.log_level)\n",
      "    Default: 30\n",
      "    Choices: (0, 10, 20, 30, 40, 50, 'DEBUG', 'INFO', 'WARN', 'ERROR', 'CRITICAL')\n",
      "    Set the log level by value or name.\n",
      "--iterations=<Int> (MyTool.iterations)\n",
      "    Default: 5\n",
      "    Number of times to run\n",
      "--infile=<Unicode> (AdvancedComponent.infile)\n",
      "    Default: ''\n",
      "    input file name\n",
      "\n",
      "To see all available configurables, use `--help-all`\n",
      "\n"
     ]
    }
   ],
   "source": [
    "tool.print_help()"
   ]
  },
  {
   "cell_type": "code",
   "execution_count": 10,
   "metadata": {
    "collapsed": false
   },
   "outputs": [
    {
     "name": "stdout",
     "output_type": "stream",
     "text": [
      "do some things and stuff\n",
      "\n",
      "Options\n",
      "-------\n",
      "\n",
      "Arguments that take values are actually convenience aliases to full\n",
      "Configurables, whose aliases are listed on the help line. For more information\n",
      "on full configurables, see '--help-all'.\n",
      "\n",
      "--log_level=<Enum> (MyTool.log_level)\n",
      "    Default: 30\n",
      "    Choices: (0, 10, 20, 30, 40, 50, 'DEBUG', 'INFO', 'WARN', 'ERROR', 'CRITICAL')\n",
      "    Set the log level by value or name.\n",
      "--iterations=<Int> (MyTool.iterations)\n",
      "    Default: 5\n",
      "    Number of times to run\n",
      "--infile=<Unicode> (AdvancedComponent.infile)\n",
      "    Default: ''\n",
      "    input file name\n",
      "\n",
      "Class parameters\n",
      "----------------\n",
      "\n",
      "Parameters are set from command-line arguments of the form:\n",
      "`--Class.trait=value`. This line is evaluated in Python, so simple expressions\n",
      "are allowed, e.g.:: `--C.a='range(3)'` For setting C.a=[0,1,2].\n",
      "\n",
      "MyTool options\n",
      "--------------\n",
      "--MyTool.config_file=<Unicode>\n",
      "    Default: ''\n",
      "    name of configuration file with parameters\n",
      "--MyTool.iterations=<Int>\n",
      "    Default: 5\n",
      "    Number of times to run\n",
      "--MyTool.log_datefmt=<Unicode>\n",
      "    Default: '%Y-%m-%d %H:%M:%S'\n",
      "    The date format used by logging formatters for %(asctime)s\n",
      "--MyTool.log_format=<Unicode>\n",
      "    Default: '[%(name)s]%(highlevel)s %(message)s'\n",
      "    The Logging format template\n",
      "--MyTool.log_level=<Enum>\n",
      "    Default: 30\n",
      "    Choices: (0, 10, 20, 30, 40, 50, 'DEBUG', 'INFO', 'WARN', 'ERROR', 'CRITICAL')\n",
      "    Set the log level by value or name.\n",
      "\n",
      "MyComponent options\n",
      "-------------------\n",
      "--MyComponent.value=<Int>\n",
      "    Default: -1\n",
      "    Value to use\n",
      "\n",
      "AdvancedComponent options\n",
      "-------------------------\n",
      "--AdvancedComponent.infile=<Unicode>\n",
      "    Default: ''\n",
      "    input file name\n",
      "--AdvancedComponent.outfile=<Unicode>\n",
      "    Default: ''\n",
      "    output file name\n",
      "--AdvancedComponent.value1=<Int>\n",
      "    Default: -1\n",
      "    Value to use\n",
      "\n",
      "SecondaryMyComponent options\n",
      "----------------------------\n",
      "--SecondaryMyComponent.value=<Int>\n",
      "    Default: -1\n",
      "    Value to use\n",
      "\n"
     ]
    }
   ],
   "source": [
    "tool.print_help(classes=True)"
   ]
  },
  {
   "cell_type": "code",
   "execution_count": 11,
   "metadata": {
    "collapsed": false
   },
   "outputs": [
    {
     "name": "stderr",
     "output_type": "stream",
     "text": [
      "2016-06-24 19:39:32 : INFO [MyTool run] Starting: mytool\n",
      "2016-06-24 19:39:32 : INFO [MyTool start] Performing 3 iterations...\n",
      "2016-06-24 19:39:32 : INFO [MyTool start] ITERATION 0\n",
      "2016-06-24 19:39:32 : INFO [MyTool start] ITERATION 1\n",
      "2016-06-24 19:39:33 : INFO [MyTool start] ITERATION 2\n",
      "2016-06-24 19:39:33 : WARNING [MyTool finish] Shutting down.\n"
     ]
    }
   ],
   "source": [
    "tool.log_format = \"%(asctime)s : %(levelname)s [%(name)s %(funcName)s] %(message)s\" \n",
    "tool.run(argv=['--log_level','INFO','--infile','bork.txt','--iterations','3'])"
   ]
  },
  {
   "cell_type": "code",
   "execution_count": 12,
   "metadata": {
    "collapsed": false
   },
   "outputs": [
    {
     "name": "stderr",
     "output_type": "stream",
     "text": [
      "2016-06-24 19:39:33 : INFO [MyTool run] Starting: mytool\n",
      "2016-06-24 19:39:33 : DEBUG [MyTool run] CONFIG: {'AdvancedComponent': {'infile': 'bork.txt'}, 'MyTool': {'log_level': 'DEBUG', 'iterations': 3}}\n",
      "2016-06-24 19:39:33 : INFO [MyTool start] Performing 3 iterations...\n",
      "2016-06-24 19:39:33 : INFO [MyTool start] ITERATION 0\n",
      "2016-06-24 19:39:33 : DEBUG [MyTool.MyComponent do_thing] Did thing\n",
      "2016-06-24 19:39:33 : DEBUG [MyTool.SecondaryMyComponent do_thing] Did thing\n",
      "2016-06-24 19:39:34 : INFO [MyTool start] ITERATION 1\n",
      "2016-06-24 19:39:34 : DEBUG [MyTool.MyComponent do_thing] Did thing\n",
      "2016-06-24 19:39:34 : DEBUG [MyTool.SecondaryMyComponent do_thing] Did thing\n",
      "2016-06-24 19:39:34 : INFO [MyTool start] ITERATION 2\n",
      "2016-06-24 19:39:34 : DEBUG [MyTool.MyComponent do_thing] Did thing\n",
      "2016-06-24 19:39:34 : DEBUG [MyTool.SecondaryMyComponent do_thing] Did thing\n",
      "2016-06-24 19:39:35 : WARNING [MyTool finish] Shutting down.\n"
     ]
    }
   ],
   "source": [
    "tool.run(argv=['--log_level','DEBUG','--infile','bork.txt'])"
   ]
  },
  {
   "cell_type": "markdown",
   "metadata": {},
   "source": [
    "you can also set parameters directly in the class"
   ]
  },
  {
   "cell_type": "code",
   "execution_count": 13,
   "metadata": {
    "collapsed": false
   },
   "outputs": [
    {
     "name": "stderr",
     "output_type": "stream",
     "text": [
      "2016-06-24 19:39:35 : WARNING [MyTool finish] Shutting down.\n"
     ]
    }
   ],
   "source": [
    "tool.iterations = 1\n",
    "tool.log_level = 0\n",
    "tool.run('')"
   ]
  },
  {
   "cell_type": "code",
   "execution_count": 14,
   "metadata": {
    "collapsed": false
   },
   "outputs": [
    {
     "name": "stdout",
     "output_type": "stream",
     "text": [
      "bad value: The 'iterations' trait of a MyTool instance must be an int, but a value of 'badval' <class 'str'> was specified.\n"
     ]
    }
   ],
   "source": [
    "try:\n",
    "    tool.iterations = \"badval\"\n",
    "except TraitError as E:\n",
    "    print(\"bad value:\",E)"
   ]
  },
  {
   "cell_type": "code",
   "execution_count": 15,
   "metadata": {
    "collapsed": false
   },
   "outputs": [
    {
     "name": "stdout",
     "output_type": "stream",
     "text": [
      "Help on class Configurable in module traitlets.config.configurable:\n",
      "\n",
      "class Configurable(traitlets.traitlets.HasTraits)\n",
      " |  The base class for all classes that have descriptors.\n",
      " |  \n",
      " |  Method resolution order:\n",
      " |      Configurable\n",
      " |      traitlets.traitlets.HasTraits\n",
      " |      traitlets.traitlets._NewBase\n",
      " |      traitlets.traitlets.HasDescriptors\n",
      " |      traitlets.traitlets._NewBase\n",
      " |      builtins.object\n",
      " |  \n",
      " |  Methods defined here:\n",
      " |  \n",
      " |  __init__(self, **kwargs)\n",
      " |      Create a configurable given a config config.\n",
      " |      \n",
      " |      Parameters\n",
      " |      ----------\n",
      " |      config : Config\n",
      " |          If this is empty, default values are used. If config is a\n",
      " |          :class:`Config` instance, it will be used to configure the\n",
      " |          instance.\n",
      " |      parent : Configurable instance, optional\n",
      " |          The parent Configurable instance of this object.\n",
      " |      \n",
      " |      Notes\n",
      " |      -----\n",
      " |      Subclasses of Configurable must call the :meth:`__init__` method of\n",
      " |      :class:`Configurable` *before* doing anything else and using\n",
      " |      :func:`super`::\n",
      " |      \n",
      " |          class MyConfigurable(Configurable):\n",
      " |              def __init__(self, config=None):\n",
      " |                  super(MyConfigurable, self).__init__(config=config)\n",
      " |                  # Then any other code you need to finish initialization.\n",
      " |      \n",
      " |      This ensures that instances will be configured properly.\n",
      " |  \n",
      " |  update_config(self, config)\n",
      " |      Update config and load the new values\n",
      " |  \n",
      " |  ----------------------------------------------------------------------\n",
      " |  Class methods defined here:\n",
      " |  \n",
      " |  class_config_rst_doc() from traitlets.traitlets.MetaHasTraits\n",
      " |      Generate rST documentation for this class' config options.\n",
      " |      \n",
      " |      Excludes traits defined on parent classes.\n",
      " |  \n",
      " |  class_config_section() from traitlets.traitlets.MetaHasTraits\n",
      " |      Get the config class config section\n",
      " |  \n",
      " |  class_get_help(inst=None) from traitlets.traitlets.MetaHasTraits\n",
      " |      Get the help string for this class in ReST format.\n",
      " |      \n",
      " |      If `inst` is given, it's current trait values will be used in place of\n",
      " |      class defaults.\n",
      " |  \n",
      " |  class_get_trait_help(trait, inst=None) from traitlets.traitlets.MetaHasTraits\n",
      " |      Get the help string for a single trait.\n",
      " |      \n",
      " |      If `inst` is given, it's current trait values will be used in place of\n",
      " |      the class default.\n",
      " |  \n",
      " |  class_print_help(inst=None) from traitlets.traitlets.MetaHasTraits\n",
      " |      Get the help string for a single trait and print it.\n",
      " |  \n",
      " |  section_names() from traitlets.traitlets.MetaHasTraits\n",
      " |      return section names as a list\n",
      " |  \n",
      " |  ----------------------------------------------------------------------\n",
      " |  Data descriptors defined here:\n",
      " |  \n",
      " |  config\n",
      " |      A trait whose value must be an instance of a specified class.\n",
      " |      \n",
      " |      The value can also be an instance of a subclass of the specified class.\n",
      " |      \n",
      " |      Subclasses can declare default classes by overriding the klass attribute\n",
      " |  \n",
      " |  parent\n",
      " |      A trait whose value must be an instance of a specified class.\n",
      " |      \n",
      " |      The value can also be an instance of a subclass of the specified class.\n",
      " |      \n",
      " |      Subclasses can declare default classes by overriding the klass attribute\n",
      " |  \n",
      " |  ----------------------------------------------------------------------\n",
      " |  Methods inherited from traitlets.traitlets.HasTraits:\n",
      " |  \n",
      " |  __getstate__(self)\n",
      " |  \n",
      " |  __setstate__(self, state)\n",
      " |  \n",
      " |  add_traits(self, **traits)\n",
      " |      Dynamically add trait attributes to the HasTraits instance.\n",
      " |  \n",
      " |  has_trait(self, name)\n",
      " |      Returns True if the object has a trait with the specified name.\n",
      " |  \n",
      " |  hold_trait_notifications(self)\n",
      " |      Context manager for bundling trait change notifications and cross\n",
      " |      validation.\n",
      " |      \n",
      " |      Use this when doing multiple trait assignments (init, config), to avoid\n",
      " |      race conditions in trait notifiers requesting other trait values.\n",
      " |      All trait notifications will fire after all values have been assigned.\n",
      " |  \n",
      " |  notify_change(self, change)\n",
      " |  \n",
      " |  observe(self, handler, names=traitlets.All, type='change')\n",
      " |      Setup a handler to be called when a trait changes.\n",
      " |      \n",
      " |      This is used to setup dynamic notifications of trait changes.\n",
      " |      \n",
      " |      Parameters\n",
      " |      ----------\n",
      " |      handler : callable\n",
      " |          A callable that is called when a trait changes. Its\n",
      " |          signature should be ``handler(change)``, where ``change```is a\n",
      " |          dictionary. The change dictionary at least holds a 'type' key.\n",
      " |          * ``type``: the type of notification.\n",
      " |          Other keys may be passed depending on the value of 'type'. In the\n",
      " |          case where type is 'change', we also have the following keys:\n",
      " |          * ``owner`` : the HasTraits instance\n",
      " |          * ``old`` : the old value of the modified trait attribute\n",
      " |          * ``new`` : the new value of the modified trait attribute\n",
      " |          * ``name`` : the name of the modified trait attribute.\n",
      " |      names : list, str, All\n",
      " |          If names is All, the handler will apply to all traits.  If a list\n",
      " |          of str, handler will apply to all names in the list.  If a\n",
      " |          str, the handler will apply just to that name.\n",
      " |      type : str, All (default: 'change')\n",
      " |          The type of notification to filter by. If equal to All, then all\n",
      " |          notifications are passed to the observe handler.\n",
      " |  \n",
      " |  on_trait_change(self, handler=None, name=None, remove=False)\n",
      " |      DEPRECATED: Setup a handler to be called when a trait changes.\n",
      " |      \n",
      " |      This is used to setup dynamic notifications of trait changes.\n",
      " |      \n",
      " |      Static handlers can be created by creating methods on a HasTraits\n",
      " |      subclass with the naming convention '_[traitname]_changed'.  Thus,\n",
      " |      to create static handler for the trait 'a', create the method\n",
      " |      _a_changed(self, name, old, new) (fewer arguments can be used, see\n",
      " |      below).\n",
      " |      \n",
      " |      If `remove` is True and `handler` is not specified, all change\n",
      " |      handlers for the specified name are uninstalled.\n",
      " |      \n",
      " |      Parameters\n",
      " |      ----------\n",
      " |      handler : callable, None\n",
      " |          A callable that is called when a trait changes.  Its\n",
      " |          signature can be handler(), handler(name), handler(name, new),\n",
      " |          handler(name, old, new), or handler(name, old, new, self).\n",
      " |      name : list, str, None\n",
      " |          If None, the handler will apply to all traits.  If a list\n",
      " |          of str, handler will apply to all names in the list.  If a\n",
      " |          str, the handler will apply just to that name.\n",
      " |      remove : bool\n",
      " |          If False (the default), then install the handler.  If True\n",
      " |          then unintall it.\n",
      " |  \n",
      " |  set_trait(self, name, value)\n",
      " |      Forcibly sets trait attribute, including read-only attributes.\n",
      " |  \n",
      " |  setup_instance(self, *args, **kwargs)\n",
      " |      This is called **before** self.__init__ is called.\n",
      " |  \n",
      " |  trait_metadata(self, traitname, key, default=None)\n",
      " |      Get metadata values for trait by key.\n",
      " |  \n",
      " |  trait_names(self, **metadata)\n",
      " |      Get a list of all the names of this class' traits.\n",
      " |  \n",
      " |  traits(self, **metadata)\n",
      " |      Get a ``dict`` of all the traits of this class.  The dictionary\n",
      " |      is keyed on the name and the values are the TraitType objects.\n",
      " |      \n",
      " |      The TraitTypes returned don't know anything about the values\n",
      " |      that the various HasTrait's instances are holding.\n",
      " |      \n",
      " |      The metadata kwargs allow functions to be passed in which\n",
      " |      filter traits based on metadata values.  The functions should\n",
      " |      take a single value as an argument and return a boolean.  If\n",
      " |      any function returns False, then the trait is not included in\n",
      " |      the output.  If a metadata key doesn't exist, None will be passed\n",
      " |      to the function.\n",
      " |  \n",
      " |  unobserve(self, handler, names=traitlets.All, type='change')\n",
      " |      Remove a trait change handler.\n",
      " |      \n",
      " |      This is used to unregister handlers to trait change notificiations.\n",
      " |      \n",
      " |      Parameters\n",
      " |      ----------\n",
      " |      handler : callable\n",
      " |          The callable called when a trait attribute changes.\n",
      " |      names : list, str, All (default: All)\n",
      " |          The names of the traits for which the specified handler should be\n",
      " |          uninstalled. If names is All, the specified handler is uninstalled\n",
      " |          from the list of notifiers corresponding to all changes.\n",
      " |      type : str or All (default: 'change')\n",
      " |          The type of notification to filter by. If All, the specified handler\n",
      " |          is uninstalled from the list of notifiers corresponding to all types.\n",
      " |  \n",
      " |  unobserve_all(self, name=traitlets.All)\n",
      " |      Remove trait change handlers of any type for the specified name.\n",
      " |      If name is not specified, removes all trait notifiers.\n",
      " |  \n",
      " |  ----------------------------------------------------------------------\n",
      " |  Class methods inherited from traitlets.traitlets.HasTraits:\n",
      " |  \n",
      " |  class_own_traits(**metadata) from traitlets.traitlets.MetaHasTraits\n",
      " |      Get a dict of all the traitlets defined on this class, not a parent.\n",
      " |      \n",
      " |      Works like `class_traits`, except for excluding traits from parents.\n",
      " |  \n",
      " |  class_trait_names(**metadata) from traitlets.traitlets.MetaHasTraits\n",
      " |      Get a list of all the names of this class' traits.\n",
      " |      \n",
      " |      This method is just like the :meth:`trait_names` method,\n",
      " |      but is unbound.\n",
      " |  \n",
      " |  class_traits(**metadata) from traitlets.traitlets.MetaHasTraits\n",
      " |      Get a ``dict`` of all the traits of this class.  The dictionary\n",
      " |      is keyed on the name and the values are the TraitType objects.\n",
      " |      \n",
      " |      This method is just like the :meth:`traits` method, but is unbound.\n",
      " |      \n",
      " |      The TraitTypes returned don't know anything about the values\n",
      " |      that the various HasTrait's instances are holding.\n",
      " |      \n",
      " |      The metadata kwargs allow functions to be passed in which\n",
      " |      filter traits based on metadata values.  The functions should\n",
      " |      take a single value as an argument and return a boolean.  If\n",
      " |      any function returns False, then the trait is not included in\n",
      " |      the output.  If a metadata key doesn't exist, None will be passed\n",
      " |      to the function.\n",
      " |  \n",
      " |  ----------------------------------------------------------------------\n",
      " |  Data descriptors inherited from traitlets.traitlets.HasTraits:\n",
      " |  \n",
      " |  cross_validation_lock\n",
      " |      A contextmanager for running a block with our cross validation lock set\n",
      " |      to True.\n",
      " |      \n",
      " |      At the end of the block, the lock's value is restored to its value\n",
      " |      prior to entering the block.\n",
      " |  \n",
      " |  ----------------------------------------------------------------------\n",
      " |  Static methods inherited from traitlets.traitlets.HasDescriptors:\n",
      " |  \n",
      " |  __new__(cls, *args, **kwargs)\n",
      " |      Create and return a new object.  See help(type) for accurate signature.\n",
      " |  \n",
      " |  ----------------------------------------------------------------------\n",
      " |  Data descriptors inherited from traitlets.traitlets._NewBase:\n",
      " |  \n",
      " |  __dict__\n",
      " |      dictionary for instance variables (if defined)\n",
      " |  \n",
      " |  __weakref__\n",
      " |      list of weak references to the object (if defined)\n",
      "\n"
     ]
    }
   ],
   "source": [
    "from traitlets.config import Configurable\n",
    "help(Configurable)"
   ]
  },
  {
   "cell_type": "markdown",
   "metadata": {},
   "source": [
    "Example of what happens when you change a parameter that is being \"observed\" in a class. It's handler is called:"
   ]
  },
  {
   "cell_type": "code",
   "execution_count": 18,
   "metadata": {
    "collapsed": false
   },
   "outputs": [
    {
     "name": "stderr",
     "output_type": "stream",
     "text": [
      "2016-06-24 19:40:18 : WARNING [MyTool.AdvancedComponent on_outfile_changed] Outfile was changed to '{'old': 'mufile', 'new': 'Another.txt', 'name': 'outfile', 'owner': <__main__.AdvancedComponent object at 0x1093c7470>, 'type': 'change'}'\n"
     ]
    }
   ],
   "source": [
    "tool.advanced.outfile = \"Another.txt\""
   ]
  },
  {
   "cell_type": "code",
   "execution_count": 20,
   "metadata": {
    "collapsed": false
   },
   "outputs": [
    {
     "data": {
      "text/plain": [
       "<__main__.MyTool at 0x10d752780>"
      ]
     },
     "execution_count": 20,
     "metadata": {},
     "output_type": "execute_result"
    }
   ],
   "source": []
  },
  {
   "cell_type": "code",
   "execution_count": null,
   "metadata": {
    "collapsed": true
   },
   "outputs": [],
   "source": []
  },
  {
   "cell_type": "code",
   "execution_count": null,
   "metadata": {
    "collapsed": true
   },
   "outputs": [],
   "source": []
  },
  {
   "cell_type": "code",
   "execution_count": null,
   "metadata": {
    "collapsed": true
   },
   "outputs": [],
   "source": []
  }
 ],
 "metadata": {
  "kernelspec": {
   "display_name": "Python 3",
   "language": "python",
   "name": "python3"
  },
  "language_info": {
   "codemirror_mode": {
    "name": "ipython",
    "version": 3
   },
   "file_extension": ".py",
   "mimetype": "text/x-python",
   "name": "python",
   "nbconvert_exporter": "python",
   "pygments_lexer": "ipython3",
   "version": "3.5.1"
  }
 },
 "nbformat": 4,
 "nbformat_minor": 0
}
